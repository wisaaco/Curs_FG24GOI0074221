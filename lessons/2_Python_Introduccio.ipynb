{
 "cells": [
  {
   "attachments": {},
   "cell_type": "markdown",
   "metadata": {},
   "source": [
    "<div align=\"center\">\n",
    "\n",
    "[![Open In Colab](https://colab.research.google.com/assets/colab-badge.png)](https://colab.research.google.com/github/wisaaco/Curs_FG24GOI0074221/blob/main/lessons/2_Python_Introduccio.ipynb)\n",
    "\n",
    "Si no funciona el botó podeu copiar el següent [enllaç](https://colab.research.google.com/github/wisaaco/Curs_FG24GOI0074221/blob/main/lessons/2_Python_Introduccio.ipynb)\n",
    "\n",
    "</div>"
   ]
  },
  {
   "cell_type": "markdown",
   "metadata": {},
   "source": [
    "# Unitat 3: Variables i estructures bàsiques de Python\n",
    "\n",
    "Contingut de la unitat:\n",
    "\n",
    "- Variables bàsiques\n",
    "- Variables compostes\n",
    "- Funcions i mètodes\n",
    "- Ús de llibreries\n",
    "- Activitat\n",
    "  "
   ]
  },
  {
   "cell_type": "markdown",
   "metadata": {},
   "source": [
    "Un dels factors que influeix en la corba d'aprenentatge d'un llenguatge és la seva sintaxi. Òbviament, Python és un llenguatge més, i cal aprendre les seves instruccions i l'estructura del seu codi.\n",
    "\n",
    "En aquest curs veurem les principals estructures i maneres d'operar amb ella. A grans trets, el més essencial és entendre com usar mètodes o funcions ja definides, aquest concepte és coneix amb el nom d'invocació. \n",
    "\n",
    "Aquesta invocació es realitza amb el seu nom i parèntesis:"
   ]
  },
  {
   "cell_type": "code",
   "execution_count": 28,
   "metadata": {},
   "outputs": [
    {
     "name": "stdout",
     "output_type": "stream",
     "text": [
      "HOLA\n"
     ]
    }
   ],
   "source": [
    "print(\"HOLA\")"
   ]
  },
  {
   "cell_type": "markdown",
   "metadata": {},
   "source": [
    "\n",
    "Dins dels parèntesis, hi posem els arguments que aquesta funció processa (separats per coma). En el cas anterior la cadena de caracters `\"HOLA\"` és el paràmetre de la funció `print`. A continuació veiem com es pot emprar la funció `sorted` per ordenar seqüència de nombres (primer paràmetre). El segon paràmetre anomenat `reverse` indica que l'ordenació es fa de major a menor. "
   ]
  },
  {
   "cell_type": "code",
   "execution_count": 30,
   "metadata": {},
   "outputs": [
    {
     "data": {
      "text/plain": [
       "[4, 3, 2, 2, 2, 1]"
      ]
     },
     "execution_count": 30,
     "metadata": {},
     "output_type": "execute_result"
    }
   ],
   "source": [
    "sorted([2,1,3,2,4,2],reverse=True)"
   ]
  },
  {
   "cell_type": "markdown",
   "metadata": {},
   "source": [
    "També podem concatenar resultats de funcions i fins i tot de variables amb l'ús d'un punt o com a argument d'una altra funció:"
   ]
  },
  {
   "cell_type": "code",
   "execution_count": 31,
   "metadata": {},
   "outputs": [
    {
     "data": {
      "text/plain": [
       "3"
      ]
     },
     "execution_count": 31,
     "metadata": {},
     "output_type": "execute_result"
    }
   ],
   "source": [
    "sorted([2,1,3,2,4,2],reverse=True).count(2) "
   ]
  },
  {
   "cell_type": "code",
   "execution_count": 32,
   "metadata": {},
   "outputs": [
    {
     "data": {
      "text/plain": [
       "['HOLA', 'MAR']"
      ]
     },
     "execution_count": 32,
     "metadata": {},
     "output_type": "execute_result"
    }
   ],
   "source": [
    "\"HOLA MAR\".split(\" \")"
   ]
  },
  {
   "cell_type": "markdown",
   "metadata": {},
   "source": [
    "La línia de sota conté funcions que són paràmetres d'altres funcions:"
   ]
  },
  {
   "cell_type": "code",
   "execution_count": 33,
   "metadata": {},
   "outputs": [
    {
     "name": "stdout",
     "output_type": "stream",
     "text": [
      "[0, 1, 2, 3, 4, 5, 6, 7, 8, 9]\n"
     ]
    }
   ],
   "source": [
    "print(list(range(10)))"
   ]
  },
  {
   "cell_type": "markdown",
   "metadata": {},
   "source": [
    "**Els comentaris** \n",
    "\n",
    "Els comentaris són importants per descriure línies de codi complicades, l'intèrpret del llenguatge no executará les línies que comencen amb el símbol `#`:"
   ]
  },
  {
   "cell_type": "code",
   "execution_count": 77,
   "metadata": {},
   "outputs": [
    {
     "name": "stdout",
     "output_type": "stream",
     "text": [
      "Hello World !\n",
      "Print a list of numbers: [0, 1, 2, 3, 4, 5, 6, 7, 8, 9]\n"
     ]
    }
   ],
   "source": [
    "# Això és un comentari d'una cel·la amb codi. \n",
    "# Si et trobes a Colab pots executar aquesta cel·la fent: shit+enter o icona de triangle\n",
    "print(\"Hello World !\")\n",
    "print(\"Print a list of numbers: %s\"%list(range(10)))"
   ]
  },
  {
   "cell_type": "markdown",
   "metadata": {},
   "source": [
    "**Les assignacions**\n",
    "\n",
    "Les dades que utilitzen els programes es guarden dins la memòria mitjançant el que anomenem com a variables. Com el nom indica, una variable pot canviar de contingut al llarg de l’execució d’un programa.\n",
    "En les següents línies de codi tenim diferents exemples d'operacions que es guarden en una variable usant el símbol `=`. El que es troba a l'esquerra d'aquest símbol és la variable que empram per guardar el resultat de l'operació que es realitza a la seva dreta"
   ]
  },
  {
   "cell_type": "code",
   "execution_count": 35,
   "metadata": {},
   "outputs": [
    {
     "name": "stdout",
     "output_type": "stream",
     "text": [
      "2 3 4 1\n"
     ]
    }
   ],
   "source": [
    "# Cel·la de codi #1\n",
    "a = 1 + 1 # suma 1 + 1, per tant, la variable a tendra valor 2\n",
    "b = 3 # asigna a la variable b el valor 3\n",
    "c = len(\"HOLA\") #la seva longitud\n",
    "d = len([\"HOLA\"])\n",
    "print(a,b,c,d)"
   ]
  },
  {
   "cell_type": "markdown",
   "metadata": {},
   "source": [
    "**Finalment, Python té una abstracció de tipus molt simple (duck typing), la qual cosa permet simplificar molt la programació i ens serà molt útil per a l'anàlisi de dades.** El tipus d'una variable defineix la natura dels valors que aquesta pot emmagatzemar. També limita les operacions que es poden fer amb elles."
   ]
  },
  {
   "cell_type": "code",
   "execution_count": 46,
   "metadata": {},
   "outputs": [
    {
     "name": "stdout",
     "output_type": "stream",
     "text": [
      "[10 30 40 50 60]\n",
      "------------------------------\n",
      "[ 1  9 16 25 36]\n",
      "++++++++++++++++++++++++++++++\n",
      "3.8\n",
      "1.7204650534085253\n",
      "1\n"
     ]
    }
   ],
   "source": [
    "import numpy as np # importació d'un conjunt de dades i mètodes no inclosos per defecte\n",
    "\n",
    "valors = np.array([1,3,4,5,6])\n",
    "\n",
    "print(valors*10)\n",
    "print(\"-\"*30)\n",
    "print(valors*valors)\n",
    "print(\"+\"*30)\n",
    "print(valors.mean())\n",
    "print(valors.std())\n",
    "print(valors.min())"
   ]
  },
  {
   "attachments": {},
   "cell_type": "markdown",
   "metadata": {},
   "source": [
    "## Operadors\n",
    "Un llenguatge de programació ofereix operacions aritmètiques i lògiques relacionades amb el tipus de dades de les variables amb les quals operen. Els tipus de dades elementals són: _String_, enter, real i booleà:"
   ]
  },
  {
   "cell_type": "code",
   "execution_count": null,
   "metadata": {},
   "outputs": [],
   "source": [
    "caracter = 'a'\n",
    "estring = \"Hello!\"\n",
    "enter =  123\n",
    "decimal = 1.23\n",
    "complexe = 1+23j\n",
    "logic = False\n",
    "\n",
    "print(type(caracter))\n",
    "print(type(estring))\n",
    "print(type(enter))\n",
    "print(type(decimal))\n",
    "print(type(complexe))\n",
    "print(type(logic))\n",
    "\n",
    "# Pots crear totes les variables que vulguis amb format lliure.\n",
    "# Intenta que les variables tinguin un nom adequat al seu contingut.\n",
    "# Evita espais, símbols i accents.\n",
    "\n",
    "nameCognoms = \"Pep Vila\"\n",
    "telefono = \"97100000\"\n",
    "dni = \"34989542A\"\n",
    "pes = 80.3\n",
    "pesos = [1.3, 40.3, 20.0, -1.0]\n",
    "\n",
    "print(pesos)"
   ]
  },
  {
   "attachments": {},
   "cell_type": "markdown",
   "metadata": {},
   "source": [
    "En Python, els **operadors** són símbols especials que indiquen que és necessari realitzar algun tipus de computació. Els valors amb els quals actua un operador es diuen **operands**.\n",
    "\n",
    "Ho entendrem amb un petit exemple:\n",
    "```python\n",
    "x = 10.0\n",
    "i = 5\n",
    "resultat = x + i\n",
    "```\n",
    "En aquest cas, l'operador `+` ens permet sumar els operands `x` i `i` junts i guardar el resultat en la variable del mateix nom. Hem de destacar que en aquest codi hem necessitat definir tres variables diferents.\n",
    "\n",
    "Un operand pot ser una variable o literal. Definim els **literals** en un programa com la idea d'expressar un valor que no canvia en el codi font, aquests han de ser d'un dels diferents tipus de dades que hem descrit\n",
    "anteriorment.\n",
    "\n",
    "A continuació tenim un altre fragment de codi en el qual usem altres operadors i literals de tipus sencer:\n",
    "```python\n",
    "a = 10\n",
    "b = 20\n",
    "x = 45\n",
    "r = (a + b - 5) + (x + 10 + 20)\n",
    "```"
   ]
  },
  {
   "cell_type": "markdown",
   "metadata": {},
   "source": [
    "A continuació trobareu exemples dels diferents operadors que es poden usar a Python:\n",
    "\n",
    "### Operadors Aritmètics\n",
    "Serveixen per operar informació numèrica"
   ]
  },
  {
   "cell_type": "code",
   "execution_count": 1,
   "metadata": {
    "ExecuteTime": {
     "end_time": "2024-09-09T14:35:33.502972Z",
     "start_time": "2024-09-09T14:35:33.471684Z"
    }
   },
   "outputs": [
    {
     "name": "stdout",
     "output_type": "stream",
     "text": [
      "30\n",
      "-10\n",
      "-10\n",
      "200\n",
      "0.5\n",
      "10\n",
      "0\n",
      "100000000000000000000\n",
      "---\n",
      "0.9400000000000013\n",
      "4.0\n",
      "234.4439909630706\n",
      "---\n",
      "(1+0j)\n",
      "(-1-23j)\n",
      "(-529+23j)\n"
     ]
    }
   ],
   "source": [
    "a = 10\n",
    "b = 20\n",
    "print(a+b) # suma\n",
    "print(a-b) # resta\n",
    "print(-a)  # negació\n",
    "print(a*b) # multiplicació\n",
    "print(a/b) # divisió\n",
    "print(a%b) # modul\n",
    "print(a//b) # divisió entera\n",
    "print(a**b) # exponent\n",
    "print(\"---\")\n",
    "a = 10.3\n",
    "b = 2.34\n",
    "\n",
    "print(a%b) # modul flotant\n",
    "print(a//b) # divisió entera\n",
    "print(a**b) # exponent\n",
    "print(\"---\")\n",
    "\n",
    "aj = 1+23j\n",
    "bj = 23j\n",
    "\n",
    "print(aj-bj) # resta complexe\n",
    "print(-aj)  # negació complexe\n",
    "print(aj*bj) # multiplicació complexe\n"
   ]
  },
  {
   "cell_type": "markdown",
   "metadata": {},
   "source": [
    "### Operadors de Comparació\n",
    "\n",
    "Serveixen per comparar qualsevol tipus de dades:"
   ]
  },
  {
   "cell_type": "code",
   "execution_count": 3,
   "metadata": {
    "ExecuteTime": {
     "end_time": "2024-09-09T14:36:23.803745Z",
     "start_time": "2024-09-09T14:36:23.771916Z"
    }
   },
   "outputs": [
    {
     "name": "stdout",
     "output_type": "stream",
     "text": [
      "False\n",
      "True\n",
      "False\n",
      "True\n",
      "False\n",
      "True\n",
      "---\n",
      "True\n"
     ]
    }
   ],
   "source": [
    "\n",
    "a = 10\n",
    "b = 12\n",
    "\n",
    "print(a==b) # Igualtat\n",
    "print(a!=b) # diferència\n",
    "print(a>b)\n",
    "print(a<b)\n",
    "print(a>=b)\n",
    "print(a<=b)\n",
    "\n",
    "print(\"---\")\n",
    "a = 10.0\n",
    "b = 10.0\n",
    "result = a==b\n",
    "print(result)"
   ]
  },
  {
   "cell_type": "markdown",
   "metadata": {},
   "source": [
    "### Operadors lògics\n",
    "\n",
    "Operen variables booleanes que només tenen els valors vertader (`True`) i fals (`False`)"
   ]
  },
  {
   "cell_type": "code",
   "execution_count": null,
   "metadata": {},
   "outputs": [],
   "source": [
    "\n",
    "a = 10.0\n",
    "b = 10.0\n",
    "c = True\n",
    "f = False\n",
    "print(not(a==b))\n",
    "print(c or f)\n",
    "print(c and (a==c))\n",
    "print(True and True)\n",
    "print(False or True)\n",
    "print(not(not(not(True))))"
   ]
  },
  {
   "cell_type": "code",
   "execution_count": null,
   "metadata": {},
   "outputs": [],
   "source": [
    "# Print data\n",
    "a = \"HOLA\"\n",
    "b = 10\n",
    "c = 3.141618\n",
    "\n",
    "print(\"This is the value of a string %s\"%a)\n",
    "print(\"This is the value of a integer %i\"%b)\n",
    "print(\"This is the value of a float %f\"%c)\n",
    "print(\"This is the value of a float %0.2f\"%c)\n",
    "\n",
    "print(\"---\")\n",
    "print(\"Print a float as a integer %i\"%c)\n",
    "print(\"Print a integer as a string %s\"%b)\n",
    "\n",
    "print(\"---\")\n",
    "print(\"Print a string as a float %f\"%a) # ERRORs!"
   ]
  },
  {
   "attachments": {},
   "cell_type": "markdown",
   "metadata": {},
   "source": [
    "### Activitat\n",
    "\n",
    "\n",
    "Suposem que un objecte es llança verticalment cap amunt des del sòl amb una velocitat inicial de 20 m/s. L'acceleració deguda a la gravetat és de -9.8 m/s². Calcula:\n",
    "\n",
    "a) El temps que trigarà a aconseguir la seva altura màxima.\n",
    "\n",
    "Formula:\n",
    "v = o + a * t\n",
    "\n",
    "On:\n",
    "\n",
    "- v = velocitat final\n",
    "- o = velocitat inicial\n",
    "- a = acceleració\n",
    "- t = temps\n"
   ]
  },
  {
   "cell_type": "code",
   "execution_count": null,
   "metadata": {},
   "outputs": [],
   "source": [
    "v = 0\n",
    "a = -9.8"
   ]
  },
  {
   "attachments": {},
   "cell_type": "markdown",
   "metadata": {},
   "source": [
    "b) L'altura màxima que aconseguirà l'objecte.\n",
    "\n",
    "Formula: <br/>\n",
    "\n",
    "s = o*t + (1/2) * a * t²\n",
    "\n",
    "On:\n",
    "\n",
    "- s = desplaçament vertical (altura)\n",
    "- o = velocitat inicial\n",
    "- a = acceleració\n",
    "- t = temps"
   ]
  },
  {
   "attachments": {},
   "cell_type": "markdown",
   "metadata": {},
   "source": [
    "## Estructures de control\n",
    "\n",
    "No volem introduir molta complexitat en aquest curs, però es necessari entendre que podem fer certes operacions de control amb les dades: recorreguts de seqüències, crear diferents branques d'execució, etc ..."
   ]
  },
  {
   "cell_type": "code",
   "execution_count": null,
   "metadata": {},
   "outputs": [],
   "source": [
    "name = \"Pep\"\n",
    "grau = 0.3\n",
    "\n",
    "if name == \"Pep\":\n",
    "    factor = 10\n",
    "else: \n",
    "    factor = 1\n",
    "\n",
    "grau = grau * factor\n",
    "print(\"Grau d'amistat amb %s es: %f \"%(name,grau))"
   ]
  },
  {
   "cell_type": "code",
   "execution_count": null,
   "metadata": {},
   "outputs": [],
   "source": [
    "names = [\"Pep\",\"Lluis\",\"Paco\"]\n",
    "\n",
    "for name in names:\n",
    "    grau = 0.3\n",
    "\n",
    "    if name == \"Pep\":\n",
    "        factor = 10\n",
    "    else: \n",
    "        factor = 1\n",
    "\n",
    "    grau = grau * factor\n",
    "    print(\"Grau d'amistat amb %s es: %f \"%(name,grau))"
   ]
  },
  {
   "cell_type": "code",
   "execution_count": null,
   "metadata": {},
   "outputs": [],
   "source": [
    "names = [\"Pep\",\"Lluis\",\"Paco\"]\n",
    "\n",
    "i = 0\n",
    "while i<len(names):\n",
    "    print(names[i])\n",
    "    i+=1"
   ]
  },
  {
   "attachments": {},
   "cell_type": "markdown",
   "metadata": {},
   "source": [
    "### Activitat\n",
    "Donada la següent llista de noms es demana:"
   ]
  },
  {
   "cell_type": "code",
   "execution_count": null,
   "metadata": {},
   "outputs": [],
   "source": [
    "noms = [\"Ruscalleda\", \"Nadal\", \"Gaudi\", \"Rodoreda\"]"
   ]
  },
  {
   "cell_type": "code",
   "execution_count": null,
   "metadata": {},
   "outputs": [],
   "source": [
    "# 1. Es troba el cognom \"Gasol\" en aquesta llista: Sí/No?"
   ]
  },
  {
   "cell_type": "code",
   "execution_count": null,
   "metadata": {},
   "outputs": [],
   "source": [
    "# 2. Imprimeix cada ítem de la llista sempre que la seva longitud (nombre de caràcters) sigui major que 6.\n",
    "print(len(\"Paco\")) #la funció len es pot aplicar a molt tipus d'objectes/variables"
   ]
  },
  {
   "cell_type": "code",
   "execution_count": null,
   "metadata": {},
   "outputs": [],
   "source": [
    "# 3. Afegeix \"Gasol\" a aquesta llista"
   ]
  },
  {
   "attachments": {},
   "cell_type": "markdown",
   "metadata": {},
   "source": [
    "## Variables compostes\n",
    "\n",
    "Fins al moment nosaltres hem definit les variables com a dades simples (“unidimensionals”), cada variable guarda un únic valor d’un únic tipus de dades. Introduirem el concepte de dades estructurades o dades compostes que ens permetran agrupar conjunts de valors en una única variable, és a dir, en un únic nom. Ja n'hem vist alguns exemples amb l'ús de llistes, per exemple a l'exercici anterior.\n",
    "\n",
    "Així com no hi ha un únic tipus problema a resoldre, tampoc hi ha una única manera de dotar d’estructura a les nostres dades. Cada una d’aquestes estructures té unes característiques particulars que les fa adients per diferents circumstàncies."
   ]
  },
  {
   "cell_type": "code",
   "execution_count": null,
   "metadata": {},
   "outputs": [],
   "source": [
    "llistes =  [\"Pep\",\"Lluis\",\"Paco\"]  # Les llistes consisteixen en un conjunt de variables i/o literals entre dos claudàtors\n",
    "print(llistes)\n",
    "print(llistes[0])\n",
    "print(len(llistes))\n",
    "\n",
    "print(\"-\"*20)\n",
    "\n",
    "\n",
    "diccionaris = { \"Pep\": \"324345C\", \"Lluis\":\"493094B\", \"Paco\":\"309403A\"} # Un diccionari és un conjunt de parelles clau-valor entre dues claus\n",
    "print(diccionaris)\n",
    "print(len(diccionaris))\n",
    "print(diccionaris.keys())\n",
    "print(diccionaris.values())\n",
    "print(diccionaris[\"Pep\"])\n",
    "\n",
    "print(\"-\"*20)\n",
    "\n",
    "tuples = (\"Pep\",33,\"3490940A\")  # Una tupla és molt similar a una llista, però un cop n'hem definit una, no la podem modificar de cap manera, només la podem consultar.\n",
    "print(tuples)\n",
    "print(tuples[1])\n",
    "\n",
    "print(\"-\"*20)\n",
    "\n",
    "grups = set([0, 2, 2, 3, \"Pep\", \"Paco\", \"Pep\"]) # Un conjunt és un cas especial d'una llista en el qual no hi pot haver elements repetits.\n",
    "print(grups)\n",
    "print(len(grups))\n",
    "print(\"Paco\" in grups)\n"
   ]
  },
  {
   "attachments": {},
   "cell_type": "markdown",
   "metadata": {},
   "source": [
    "És molt important conèixer el tipus de cada composició d'una variable i dels seus mètodes associats (_built types_)"
   ]
  },
  {
   "cell_type": "code",
   "execution_count": null,
   "metadata": {},
   "outputs": [],
   "source": [
    "codiPostal = { \"Palma\": [\"07004\",\"07122\"], \"Inca\": [\"07300\"]}\n",
    "\n",
    "print(type(codiPostal))"
   ]
  },
  {
   "cell_type": "code",
   "execution_count": null,
   "metadata": {},
   "outputs": [],
   "source": [
    "print(type(codiPostal[\"Palma\"]))"
   ]
  },
  {
   "cell_type": "code",
   "execution_count": null,
   "metadata": {},
   "outputs": [],
   "source": [
    "print(type(codiPostal[\"Palma\"][0]))"
   ]
  },
  {
   "cell_type": "code",
   "execution_count": null,
   "metadata": {},
   "outputs": [],
   "source": [
    "if \"07122\" in codiPostal[\"Palma\"]:\n",
    "    print(\"El codi 07122 és el CP de la UIB\")"
   ]
  },
  {
   "cell_type": "code",
   "execution_count": null,
   "metadata": {},
   "outputs": [],
   "source": [
    "codiPostal[\"Sineu\"] = [\"07510\"]\n",
    "print(codiPostal)\n",
    "print(len(codiPostal))"
   ]
  },
  {
   "cell_type": "code",
   "execution_count": null,
   "metadata": {},
   "outputs": [],
   "source": [
    "codiPostal[\"Sineu\"].append(\"07511\")\n",
    "\n",
    "for key in codiPostal:\n",
    "    print(key, codiPostal[key])"
   ]
  },
  {
   "attachments": {},
   "cell_type": "markdown",
   "metadata": {},
   "source": [
    "### Activitat\n",
    "Donada aquesta variable anomenada `data` es demana:"
   ]
  },
  {
   "cell_type": "code",
   "execution_count": null,
   "metadata": {},
   "outputs": [],
   "source": [
    "data = [\n",
    "    {\n",
    "        \"nom\":\"Pep\",\n",
    "        \"DNI\": {\n",
    "                \"numero\":3243434,\n",
    "                \"lletra\":\"A\"\n",
    "        }\n",
    "    },\n",
    "    {\n",
    "        \"nom\":\"Lluis\",\n",
    "        \"DNI\": {\n",
    "                \"numero\":1000000,\n",
    "                \"lletra\":\"B\"\n",
    "        }\n",
    "    }\n",
    "]"
   ]
  },
  {
   "cell_type": "code",
   "execution_count": null,
   "metadata": {},
   "outputs": [],
   "source": [
    "# 1. Quina lletra té el DNI de Pep.\n"
   ]
  },
  {
   "cell_type": "code",
   "execution_count": null,
   "metadata": {},
   "outputs": [],
   "source": [
    "# 2. Quants elements té la variable data"
   ]
  },
  {
   "cell_type": "code",
   "execution_count": null,
   "metadata": {},
   "outputs": [],
   "source": [
    "# 3. Afegeix una altra persona. Nota: No cal que tingui els mateix camps"
   ]
  },
  {
   "attachments": {},
   "cell_type": "markdown",
   "metadata": {},
   "source": [
    "## Llibreries\n",
    "\n",
    "Python inclou moltes funcionalitats de base, però hi ha llibreries que donen molt de potencial. Pràcticament, tot el que puguem necessitar a l'hora de fer els nostres anàlisis de dades ja està tot implementat en Python i a les seves llibreries. Per tant, la nostra feina serà conèixer l'entorn de Python i les seves llibreries i emprar les funcions i estructures de dades més adients.\n",
    "\n",
    "A Google Colab no cal instal·lar-ne, però a una plataforma pròpia si seria necessari. En aquest curs introductori no cobriren aquest punt."
   ]
  },
  {
   "cell_type": "code",
   "execution_count": null,
   "metadata": {},
   "outputs": [],
   "source": [
    "preus = [10.0, 20.3, 12.3, 13.4, 9.65, 9.98, 7.98, 9.9]\n",
    "\n",
    "print(sum(preus)/len(preus))\n"
   ]
  },
  {
   "cell_type": "code",
   "execution_count": null,
   "metadata": {},
   "outputs": [],
   "source": [
    "# Hi ha llibreries incloses en el nucli de Python. Estan instal·lades, però per defecte no es carreguen, per tant ho haurem de fer nosaltres\n",
    "import math\n",
    "print(math.sqrt(preus[0])) # arrel quadrada\n"
   ]
  },
  {
   "attachments": {},
   "cell_type": "markdown",
   "metadata": {},
   "source": [
    "### Llibreria Numpy\n",
    "\n",
    "Numpy és la llibreria numèrica per excel·lència.\n",
    "\n",
    "https://numpy.org/\n",
    "\n",
    "Aquesta llibrería està instalada per defecte a Google Colab però no està a una instal·lació nativa de Python. "
   ]
  },
  {
   "cell_type": "code",
   "execution_count": null,
   "metadata": {},
   "outputs": [],
   "source": [
    "# Hi ha d'altres que cal instal·lar-les\n",
    "import numpy as np #np és un alias\n",
    "\n",
    "preus = [10.0, 20.3, 12.3, 13.4, 9.65, 9.98, 7.98, 9.9] # una llista de items\n",
    "preus = np.array(preus) #un array/llista de valors númerics\n",
    "\n",
    "print(preus.mean())\n",
    "print(preus.std())\n",
    "print(preus.min())\n",
    "print(preus.max())\n"
   ]
  },
  {
   "cell_type": "code",
   "execution_count": null,
   "metadata": {},
   "outputs": [],
   "source": [
    "# Operacions vectorials\n",
    "preusIVA = preus*1.21\n",
    "print(preusIVA)"
   ]
  },
  {
   "cell_type": "code",
   "execution_count": null,
   "metadata": {},
   "outputs": [],
   "source": [
    "# Operacions lògiques\n",
    "print(preus>10.0)\n",
    "print(preus[preus>10.0])"
   ]
  },
  {
   "cell_type": "markdown",
   "metadata": {},
   "source": [
    "**Accedint als elements d’una llista**\n",
    "\n",
    "Es pot accedir a elements individuals d’una llista especificant la seva posició, també anomenada índex, entre claudàtors. La indexació de llistes comença a l’índex zero, això vol dir que el primer element es troba en aquesta posició i el darrer en la posició $n-1$ on $n$ és el nombre d’elements de la llista.\n",
    "\n",
    "Python també permet una sintaxi d’indexació avançada que permet extreure subllistes d’una llista. Aquesta tècnica és coneguda com a _slicing_. Sigui `ll` una variable que identifica una llista, una expressió de la forma `ll[inici:final]` retorna la porció de `ll` que comença en la posició `inici`, i acaba en la posició `final-1`. És a dir, la posició indexada per `final` no és inclosa dins aquesta subllista."
   ]
  },
  {
   "cell_type": "code",
   "execution_count": null,
   "metadata": {},
   "outputs": [],
   "source": [
    "# Seleccio (slicing)\n",
    "print(preus)\n",
    "print(preus[3])\n",
    "print(preus[-1])\n",
    "\n",
    "print(\"-\"*30)\n",
    "\n",
    "print(preus[:3])\n",
    "print(preus[:-1])\n",
    "print(preus[2:4])\n",
    "print(preus[6:])"
   ]
  },
  {
   "attachments": {},
   "cell_type": "markdown",
   "metadata": {},
   "source": [
    "### Activitat\n",
    "\n",
    "S'ha fet un petit estudi de mercat del preu d'origen de certs productes. Són preus per kilogram durant quatre dies.\n",
    "\n",
    "L'objectiu d'aquesta activitat és la consolidació de les estructures bàsiques de Python."
   ]
  },
  {
   "cell_type": "code",
   "execution_count": 20,
   "metadata": {},
   "outputs": [
    {
     "name": "stdout",
     "output_type": "stream",
     "text": [
      "[[30.3  20.3  25.9  39.  ]\n",
      " [ 0.33  0.43  0.34  0.12]\n",
      " [ 0.45  0.56  0.38  0.43]]\n"
     ]
    }
   ],
   "source": [
    "import numpy as np\n",
    "preus = np.array(\n",
    "        [ #Dia0, Dia1, Dia2, Dia3\n",
    "            [30.3, 20.3, 25.9, 39.0], # Cebes, preus per cèntims/kg \n",
    "            [0.33, 0.43, 0.34, 0.12], # Patates, euro/kg\n",
    "            [0.45, 0.56, 0.38, 0.43] # Taronges euro/kg\n",
    "])\n",
    "\n",
    "print(preus)"
   ]
  },
  {
   "cell_type": "markdown",
   "metadata": {},
   "source": [
    "Recomanacions\n",
    "\n",
    "- Identificar quines estructures de dades tenim\n",
    "- Identificar com podem seleccionar informació"
   ]
  },
  {
   "cell_type": "markdown",
   "metadata": {},
   "source": [
    "**La importància del _slicing_**"
   ]
  },
  {
   "cell_type": "code",
   "execution_count": 6,
   "metadata": {},
   "outputs": [
    {
     "data": {
      "text/plain": [
       "array([30.3, 20.3, 25.9, 39. ])"
      ]
     },
     "execution_count": 6,
     "metadata": {},
     "output_type": "execute_result"
    }
   ],
   "source": [
    "preus[0] # Cebes"
   ]
  },
  {
   "cell_type": "code",
   "execution_count": 7,
   "metadata": {},
   "outputs": [
    {
     "data": {
      "text/plain": [
       "array([0.33, 0.43, 0.34, 0.12])"
      ]
     },
     "execution_count": 7,
     "metadata": {},
     "output_type": "execute_result"
    }
   ],
   "source": [
    "preus[1] # Patates"
   ]
  },
  {
   "cell_type": "code",
   "execution_count": 8,
   "metadata": {},
   "outputs": [
    {
     "data": {
      "text/plain": [
       "array([0.45, 0.56, 0.38, 0.43])"
      ]
     },
     "execution_count": 8,
     "metadata": {},
     "output_type": "execute_result"
    }
   ],
   "source": [
    "preus[2] #Taronges"
   ]
  },
  {
   "cell_type": "code",
   "execution_count": 9,
   "metadata": {},
   "outputs": [
    {
     "ename": "IndexError",
     "evalue": "index 19 is out of bounds for axis 0 with size 3",
     "output_type": "error",
     "traceback": [
      "\u001b[0;31m---------------------------------------------------------------------------\u001b[0m",
      "\u001b[0;31mIndexError\u001b[0m                                Traceback (most recent call last)",
      "Cell \u001b[0;32mIn[9], line 1\u001b[0m\n\u001b[0;32m----> 1\u001b[0m \u001b[43mpreus\u001b[49m\u001b[43m[\u001b[49m\u001b[38;5;241;43m19\u001b[39;49m\u001b[43m]\u001b[49m\n",
      "\u001b[0;31mIndexError\u001b[0m: index 19 is out of bounds for axis 0 with size 3"
     ]
    }
   ],
   "source": [
    "preus[19]"
   ]
  },
  {
   "cell_type": "code",
   "execution_count": 10,
   "metadata": {},
   "outputs": [
    {
     "data": {
      "text/plain": [
       "array([[0.33, 0.43, 0.34, 0.12],\n",
       "       [0.45, 0.56, 0.38, 0.43]])"
      ]
     },
     "execution_count": 10,
     "metadata": {},
     "output_type": "execute_result"
    }
   ],
   "source": [
    "preus[1:] #Patates i Taronges"
   ]
  },
  {
   "cell_type": "code",
   "execution_count": 11,
   "metadata": {},
   "outputs": [
    {
     "data": {
      "text/plain": [
       "array([30.3 ,  0.33,  0.45])"
      ]
     },
     "execution_count": 11,
     "metadata": {},
     "output_type": "execute_result"
    }
   ],
   "source": [
    "preus[:,0] # preus del dia 0"
   ]
  },
  {
   "cell_type": "code",
   "execution_count": 12,
   "metadata": {},
   "outputs": [
    {
     "data": {
      "text/plain": [
       "array([[20.3 , 25.9 ],\n",
       "       [ 0.43,  0.34],\n",
       "       [ 0.56,  0.38]])"
      ]
     },
     "execution_count": 12,
     "metadata": {},
     "output_type": "execute_result"
    }
   ],
   "source": [
    "preus[:,1:3] #preus del día 1 i 2"
   ]
  },
  {
   "attachments": {},
   "cell_type": "markdown",
   "metadata": {},
   "source": [
    "Recomanacions:\n",
    "\n",
    "- Identifiqueu el tipus de variable i els tipus inherents que pugui tindre aquest objecte (*preuOrigin*)\n",
    "- Com podem accedir a cada part?, i subapartat?\n",
    "\n",
    "#### Questions"
   ]
  },
  {
   "cell_type": "code",
   "execution_count": 21,
   "metadata": {},
   "outputs": [
    {
     "name": "stdout",
     "output_type": "stream",
     "text": [
      "[[0.303 0.203 0.259 0.39 ]\n",
      " [0.33  0.43  0.34  0.12 ]\n",
      " [0.45  0.56  0.38  0.43 ]]\n"
     ]
    }
   ],
   "source": [
    "#. 0) Preparació i normalització dels preus (resolt)\n",
    "\n",
    "# Cebes a euro/kg. Dividir per 100\n",
    "preus[0] = preus[0]/100\n",
    "print(preus)"
   ]
  },
  {
   "cell_type": "code",
   "execution_count": 22,
   "metadata": {},
   "outputs": [
    {
     "data": {
      "text/plain": [
       "array([0.39, 0.43, 0.56])"
      ]
     },
     "execution_count": 22,
     "metadata": {},
     "output_type": "execute_result"
    }
   ],
   "source": [
    "# A) Quin és el preu màxim de cada producte?\n",
    "preus.max(axis=1)"
   ]
  },
  {
   "cell_type": "code",
   "execution_count": 25,
   "metadata": {},
   "outputs": [
    {
     "data": {
      "text/plain": [
       "2"
      ]
     },
     "execution_count": 25,
     "metadata": {},
     "output_type": "execute_result"
    }
   ],
   "source": [
    "# B) Quin és el producte més car?\n",
    "\n",
    "ix = preus.argmax()\n",
    "irow = ix // preus.shape[1]\n",
    "irow\n",
    "# 0 - cebes\n",
    "# 1 - patates\n",
    "# 2 - taronges"
   ]
  },
  {
   "cell_type": "code",
   "execution_count": 28,
   "metadata": {},
   "outputs": [
    {
     "data": {
      "text/plain": [
       "1"
      ]
     },
     "execution_count": 28,
     "metadata": {},
     "output_type": "execute_result"
    }
   ],
   "source": [
    "# C) Quin dia són més cares les taronges?\n",
    "preus[2].argmax()"
   ]
  },
  {
   "cell_type": "code",
   "execution_count": 29,
   "metadata": {},
   "outputs": [
    {
     "data": {
      "text/plain": [
       "array([[0.3636, 0.2436, 0.3108, 0.468 ],\n",
       "       [0.396 , 0.516 , 0.408 , 0.144 ],\n",
       "       [0.54  , 0.672 , 0.456 , 0.516 ]])"
      ]
     },
     "execution_count": 29,
     "metadata": {},
     "output_type": "execute_result"
    }
   ],
   "source": [
    "# D) I si el preu de mercat és un 20% més, quins preus tindrem?\n",
    "\n",
    "preus_nous = preus*1.2\n",
    "preus_nous\n"
   ]
  },
  {
   "cell_type": "code",
   "execution_count": 34,
   "metadata": {},
   "outputs": [
    {
     "name": "stdout",
     "output_type": "stream",
     "text": [
      "[[0.303 0.203 0.259 0.39 ]\n",
      " [0.33  0.43  0.34  0.12 ]\n",
      " [0.45  0.56  0.38  0.43 ]]\n",
      "1.7875\n"
     ]
    }
   ],
   "source": [
    "# E) Quin és el cost de comprar 3 kg de taronges i 2.5 kg de cebes el dia 2?\n",
    "\n",
    "print(preus)\n",
    "costtaronges = preus[:,2][2]*3 #taronges\n",
    "costcebes = preus[:,2][0]*2.5 #taronges\n",
    "costtotal = costcebes + costtaronges\n",
    "print(costtotal)\n"
   ]
  },
  {
   "attachments": {},
   "cell_type": "markdown",
   "metadata": {},
   "source": [
    "[![License: CC BY 4.0](https://img.shields.io/badge/License-CC_BY_4.0-lightgrey.svg)](https://creativecommons.org/licenses/by/4.0/) <br/>\n",
    "Isaac Lera and Gabriel Moyà <br/>\n",
    "Universitat de les Illes Balears <br/>\n",
    "isaac.lera@uib.edu, gabriel.moya@uib.edu"
   ]
  }
 ],
 "metadata": {
  "kernelspec": {
   "display_name": "Python 3.9.7 64-bit ('3.9.7')",
   "language": "python",
   "name": "python3"
  },
  "language_info": {
   "codemirror_mode": {
    "name": "ipython",
    "version": 3
   },
   "file_extension": ".py",
   "mimetype": "text/x-python",
   "name": "python",
   "nbconvert_exporter": "python",
   "pygments_lexer": "ipython3",
   "version": "3.11.0"
  },
  "orig_nbformat": 4,
  "vscode": {
   "interpreter": {
    "hash": "1dd6de46b7c7be538353ccdeaa948031a5b4d43665739a26f55ca28b247c53cc"
   }
  }
 },
 "nbformat": 4,
 "nbformat_minor": 2
}
