{
 "cells": [
  {
   "cell_type": "markdown",
   "metadata": {
    "collapsed": false
   },
   "source": [
    "<div align=\"center\">\n",
    "\n",
    "[![Open In Colab](https://colab.research.google.com/assets/colab-badge.png)](https://colab.research.google.com/github/wisaaco/Curs_FG24GOI0074221/blob/main/lessons/5_Pandas_Modificacio.ipynb)\n",
    "\n",
    "\n",
    "Si no funciona el botó podeu copiar el següent [enllaç](https://colab.research.google.com/github/wisaaco/Curs_FG24GOI0074221/blob/main/lessons/5_Pandas_Modificacio.ipynb)\n",
    "</div>"
   ]
  },
  {
   "cell_type": "markdown",
   "metadata": {
    "collapsed": false
   },
   "source": [
    "# Unitat 5: Manipulació\n",
    "\n",
    "Continguts:\n",
    "\n",
    "**5A**\n",
    "- Manipulació de dataframes.\n",
    "- Concatenació.\n",
    "- Activitat.\n",
    "  \n",
    "**5B**\n",
    "\n",
    "- Tractament d’informació desconeguda.\n",
    "\n",
    "**5C**\n",
    "\n",
    "- Preparació de dades per a la visualització.\n",
    "- Llibrería Seaborn.\n",
    "- Activitat.\n"
   ]
  },
  {
   "cell_type": "code",
   "execution_count": 1,
   "metadata": {
    "collapsed": false
   },
   "outputs": [],
   "source": [
    "import pandas as pd"
   ]
  },
  {
   "cell_type": "code",
   "execution_count": null,
   "metadata": {
    "collapsed": false
   },
   "outputs": [],
   "source": [
    "df2 = pd.DataFrame([('Foreign Cinema', 'Restaurant', 289.0),\n",
    "                   ('Liho Liho', 'Restaurant', 224.0),\n",
    "                   ('500 Club', 'bar', 80.5),\n",
    "                   ('The Square', 'bar', 25.30)],\n",
    "           columns=('name', 'type', 'AvgBill')\n",
    "                 )\n",
    "df2"
   ]
  },
  {
   "cell_type": "markdown",
   "metadata": {
    "collapsed": false
   },
   "source": [
    "## 5.A Manipulació de dataframes\n",
    "\n",
    "### Afegir columnes\n",
    "\n",
    "Tenim diverses maneres d'afegir columnes a un _dataFrame_:\n",
    "\n",
    "- Mitjançant el nom de la columna que volem afegir, tal com afegim una clau nova a un diccionari.\n",
    "- `insert`: és un mètode que necessita 3 paràmetres. La posició on volem afegir la columna (`loc`), el seu nom (`column`) i la llista de valors (`value`).\n",
    "- `assign`: molt semblant a l'anterior, però permet afegir múltiples columnes.\n",
    "\n",
    "Vegem-ne alguns exemples:"
   ]
  },
  {
   "cell_type": "code",
   "execution_count": null,
   "metadata": {
    "collapsed": false
   },
   "outputs": [],
   "source": [
    "df2['Day'] = \"Monday\" # Com un diccionari. un ùnic valor a la nova sèrie\n",
    "df2"
   ]
  },
  {
   "cell_type": "code",
   "execution_count": null,
   "metadata": {
    "collapsed": false
   },
   "outputs": [],
   "source": [
    "df2['Day'] = ['Monday', 'Tuesday', 'Wednesday', 'Thursday']\n",
    "df2"
   ]
  },
  {
   "cell_type": "code",
   "execution_count": null,
   "metadata": {
    "collapsed": false
   },
   "outputs": [],
   "source": [
    "#Emprarem el mètode insert. Indicant on volem inserir aquesta columna amb el paràmetre loc\n",
    "\n",
    "df2.insert(loc=1, column=\"Stars\", value=[2,2,3,4])\n",
    "df2"
   ]
  },
  {
   "cell_type": "markdown",
   "metadata": {
    "collapsed": false
   },
   "source": [
    "El mètode `assing` permet afegir múltiples columnes en una sola operació. És interessant veure que la columna anomenada _AvgHalfBill_ és el resultat de dividir una columna entre 2."
   ]
  },
  {
   "cell_type": "code",
   "execution_count": null,
   "metadata": {
    "collapsed": false
   },
   "outputs": [],
   "source": [
    "df3 = df2.assign(AvgHalfBill=df2.AvgBill / 2, Michelin_Star=3)\n",
    "df3"
   ]
  },
  {
   "cell_type": "markdown",
   "metadata": {
    "collapsed": false
   },
   "source": [
    "## Afegir files\n",
    "\n",
    "Per afegir files (una nova mostra) a un _dataframe_ tenim el mètode `concat` que concatena dos o més _dataFrames_ separats per comes."
   ]
  },
  {
   "cell_type": "code",
   "execution_count": 7,
   "metadata": {
    "collapsed": false
   },
   "outputs": [],
   "source": [
    "df_files = df2.copy() # Fem una còpia de tota la informació\n",
    "\n",
    "#Cream un diccionari\n",
    "fila = {\"name\":\"Isaacs\", \"type\":\"bar\" ,\"AvgBill\":[148.2], \"day\":\"Friday\"}\n",
    "\n",
    "nou_df = pd.concat([df_files, pd.DataFrame(fila)])"
   ]
  },
  {
   "cell_type": "code",
   "execution_count": null,
   "metadata": {
    "collapsed": false
   },
   "outputs": [],
   "source": [
    "nou_df"
   ]
  },
  {
   "cell_type": "markdown",
   "metadata": {
    "collapsed": false
   },
   "source": [
    "## Eliminar columnes i files\n",
    "\n",
    "Molts cops tendrem la necessitat d'eliminar informació que no ens és interessant.\n",
    "\n",
    "### Columnes\n",
    "\n",
    "Tenim el mètode `drop` que ens proporciona un nou _dataFrame_ sense la(es) fila(es) o la(les) columna(es) que seleccionem.\n",
    "Si volem eliminar columnes podem fer-ho especificant la llista de columnes al paràmetre `columns` de la següent manera:"
   ]
  },
  {
   "cell_type": "code",
   "execution_count": null,
   "metadata": {
    "collapsed": false
   },
   "outputs": [],
   "source": [
    "df_no_michelin = df3.drop(columns=[\"Michelin_Star\"]) # Eliminamos la última columna que hemos creado\n",
    "df_no_michelin"
   ]
  },
  {
   "cell_type": "markdown",
   "metadata": {
    "collapsed": false
   },
   "source": [
    "Anem a veure com ha quedat el dataframe del qual hem eliminat una columna:"
   ]
  },
  {
   "cell_type": "code",
   "execution_count": null,
   "metadata": {
    "collapsed": false
   },
   "outputs": [],
   "source": [
    "df3"
   ]
  },
  {
   "cell_type": "markdown",
   "metadata": {
    "collapsed": false
   },
   "source": [
    "### Files\n",
    "Per poder eliminar files, fem servir la mateixa funció `drop`, aquesta vegada sense el paràmetre que hem fet servir anteriorment, simplement indiquem els índexs a eliminar:"
   ]
  },
  {
   "cell_type": "code",
   "execution_count": null,
   "metadata": {
    "collapsed": false
   },
   "outputs": [],
   "source": [
    "df_less_rows = df_no_michelin.drop([1,3])\n",
    "df_less_rows"
   ]
  },
  {
   "cell_type": "markdown",
   "metadata": {},
   "source": [
    "#### Eliminació de files segons un criteri"
   ]
  },
  {
   "cell_type": "code",
   "execution_count": null,
   "metadata": {},
   "outputs": [],
   "source": [
    "dfs1 = df3[df3.Stars>=3] # per una selecció?\n",
    "dfs1"
   ]
  },
  {
   "cell_type": "code",
   "execution_count": null,
   "metadata": {},
   "outputs": [],
   "source": [
    "df3.drop(df3.Stars>=3) #! requereix l'index"
   ]
  },
  {
   "cell_type": "code",
   "execution_count": null,
   "metadata": {},
   "outputs": [],
   "source": [
    "df3[df3.Stars>=3].index"
   ]
  },
  {
   "cell_type": "code",
   "execution_count": null,
   "metadata": {},
   "outputs": [],
   "source": [
    "df3.drop(df3[df3.Stars>=3].index)"
   ]
  },
  {
   "cell_type": "code",
   "execution_count": null,
   "metadata": {},
   "outputs": [],
   "source": [
    "df3 #! Alerta amb els canvis"
   ]
  },
  {
   "cell_type": "code",
   "execution_count": null,
   "metadata": {},
   "outputs": [],
   "source": [
    "df3.drop(df3[df3.Stars>=3].index, inplace=True)\n",
    "df3"
   ]
  },
  {
   "cell_type": "markdown",
   "metadata": {},
   "source": [
    "## Concatenació i unió de dataframes\n",
    "\n",
    "A vegades les dades venem en diferents fitxers i necessiten un únic fitxer, aquest procés implica una concatenació de dataframes. I en altres ocasions, les dades són complementàries és a dir, hi ha noves columnes d'un dataframe i això es coneix com fer operacions d'unió (joins)."
   ]
  },
  {
   "cell_type": "markdown",
   "metadata": {},
   "source": [
    "**Concatenació**"
   ]
  },
  {
   "cell_type": "code",
   "execution_count": null,
   "metadata": {},
   "outputs": [],
   "source": [
    "df1 = pd.DataFrame([('Foreign Cinema', 'Restaurant', 289.0),\n",
    "                   ('Liho Liho', 'Restaurant', 224.0),\n",
    "                   ('500 Club', 'bar', 80.5),\n",
    "                   ('The Square', 'bar', 25.30)],\n",
    "           columns=('name', 'type', 'AvgBill')\n",
    "                 )\n",
    "df1"
   ]
  },
  {
   "cell_type": "code",
   "execution_count": null,
   "metadata": {},
   "outputs": [],
   "source": [
    "df2 = pd.DataFrame([('Biels', 'Quiosquet', 389.0),\n",
    "                   ('Barkus', 'Bar', 24.0),\n",
    "                   ('Blue Wall', 'bar', 80.5),\n",
    "                   ('Bounty Hunters', 'Social Club', 125.30)],\n",
    "           columns=('name', 'type', 'AvgBill')\n",
    "                 )\n",
    "df2"
   ]
  },
  {
   "cell_type": "code",
   "execution_count": null,
   "metadata": {},
   "outputs": [],
   "source": [
    "dfAll = pd.concat([df1,df2])\n",
    "dfAll"
   ]
  },
  {
   "cell_type": "code",
   "execution_count": null,
   "metadata": {},
   "outputs": [],
   "source": [
    "dfAll = dfAll.reset_index()\n",
    "dfAll"
   ]
  },
  {
   "cell_type": "code",
   "execution_count": null,
   "metadata": {},
   "outputs": [],
   "source": [
    "dfAll.drop(columns=[\"index\"])"
   ]
  },
  {
   "cell_type": "code",
   "execution_count": null,
   "metadata": {},
   "outputs": [],
   "source": [
    "# https://pandas.pydata.org/docs/reference/api/pandas.concat.html\n",
    "dfAll = pd.concat([df1,df2],ignore_index=True)\n",
    "dfAll"
   ]
  },
  {
   "cell_type": "markdown",
   "metadata": {},
   "source": [
    "**Unió**\n",
    "\n",
    "Més informació: https://pandas.pydata.org/docs/user_guide/merging.html"
   ]
  },
  {
   "cell_type": "code",
   "execution_count": null,
   "metadata": {},
   "outputs": [],
   "source": [
    "df1 = pd.DataFrame([('Jhon', 1, \"Italy\"),\n",
    "                   ('Pep', 2, \"Germany\"),\n",
    "                   ('William', 3, \"Finland\"),\n",
    "                   ('Snake', 4, \"Italy\")],\n",
    "           columns=('name', 'ID', 'Country')\n",
    "                 )\n",
    "df1"
   ]
  },
  {
   "cell_type": "code",
   "execution_count": null,
   "metadata": {},
   "outputs": [],
   "source": [
    "df2 = pd.DataFrame([(1, 145.0, 3000.1),\n",
    "                   ( 2, 189.2, 2030.2),\n",
    "                   ( 3, 129.0, 3000.0),\n",
    "                   ( 4, 198.1, 4020.2)],\n",
    "           columns=('DNI', 'Weight', 'Salary')\n",
    "                 )\n",
    "df2"
   ]
  },
  {
   "cell_type": "code",
   "execution_count": null,
   "metadata": {},
   "outputs": [],
   "source": [
    "# https://pandas.pydata.org/docs/reference/api/pandas.DataFrame.merge.html\n",
    "\n",
    "df1.merge(df2) #! Alerta"
   ]
  },
  {
   "cell_type": "code",
   "execution_count": null,
   "metadata": {},
   "outputs": [],
   "source": [
    "df1.merge(df2, left_on='ID', right_on='DNI')"
   ]
  },
  {
   "cell_type": "code",
   "execution_count": null,
   "metadata": {},
   "outputs": [],
   "source": [
    "df2 = pd.DataFrame([(1, 145.0, 3000.1), #No 2\n",
    "                   ( 3, 129.0, 3000.0), # Multiples 3\n",
    "                   ( 3, 159.0, 4000.0),\n",
    "                   ( 3, 109.0, 5000.0),\n",
    "                   ( 4, 198.1, 4020.2),\n",
    "                   ( 5, 200.0, 5000.2)], #a new one \n",
    "           columns=('DNI', 'Weight', 'Salary')\n",
    "                 )\n",
    "df2"
   ]
  },
  {
   "cell_type": "code",
   "execution_count": null,
   "metadata": {},
   "outputs": [],
   "source": [
    "df1.merge(df2, left_on='ID', right_on='DNI')"
   ]
  },
  {
   "cell_type": "code",
   "execution_count": null,
   "metadata": {},
   "outputs": [],
   "source": [
    "df1.merge(df2, left_on='ID', right_on='DNI',how=\"left\")"
   ]
  },
  {
   "cell_type": "code",
   "execution_count": null,
   "metadata": {},
   "outputs": [],
   "source": [
    "df1.merge(df2, left_on='ID', right_on='DNI',how=\"right\")"
   ]
  },
  {
   "cell_type": "code",
   "execution_count": null,
   "metadata": {},
   "outputs": [],
   "source": [
    "df1.merge(df2, left_on='ID', right_on='DNI',how=\"inner\")"
   ]
  },
  {
   "cell_type": "code",
   "execution_count": null,
   "metadata": {},
   "outputs": [],
   "source": [
    "df1.merge(df2,how=\"cross\")"
   ]
  },
  {
   "cell_type": "markdown",
   "metadata": {
    "collapsed": false
   },
   "source": [
    "## <span style=\"color:red\">Activitat</span>\n",
    "Donat el següent dataframe:"
   ]
  },
  {
   "cell_type": "code",
   "metadata": {
    "ExecuteTime": {
     "end_time": "2024-10-03T09:02:44.386983Z",
     "start_time": "2024-10-03T09:02:43.661964Z"
    }
   },
   "source": [
    "import pandas as pd\n",
    "\n",
    "# cream un diccionari amb les dades\n",
    "data = {'País': ['Estados Unidos', 'China', 'Japón', 'Alemania', 'Reino Unido', 'India', 'Francia', 'Italia', 'Brasil', 'Canadá'],\n",
    "        'PIB (billones de dólares)': [21.44, 15.54, 5.15, 4.17, 2.62, 2.61, 2.58, 1.93, 1.67, 1.65],\n",
    "        'Inflación (%)': [1.8, 2.9, 0.2, 1.6, 2.2, 5.0, 1.2, 0.9, 3.7, 1.8],\n",
    "        'Tasa de desempleo (%)': [3.7, 3.6, 2.9, 3.2, 3.8, 6.6, 8.1, 10.0, 13.9, 5.6],\n",
    "        'Índice de competitividad': [85.6, 83.1, 82.5, 80.9, 78.9, 64.4, 78.0, 70.3, 59.5, 77.2]}\n",
    "\n",
    "# cream el dataframe\n",
    "df_economia = pd.DataFrame(data)"
   ],
   "outputs": [],
   "execution_count": 1
  },
  {
   "cell_type": "code",
   "metadata": {
    "ExecuteTime": {
     "end_time": "2024-10-03T09:03:03.922899Z",
     "start_time": "2024-10-03T09:03:03.914890Z"
    }
   },
   "source": [
    "# 1. Afegeix una columna al dataframe que sigui la població de cada país segons la següent llista: `poblacion = [328.2, 1393, 126.5, 83.2, 66.9, 1380, 66.99, 60.3, 212.6, 38.1]`\n",
    "df_economia[\"Población\"] =  [328.2, 1393, 126.5, 83.2, 66.9, 1380, 66.99, 60.3, 212.6, 38.1]"
   ],
   "outputs": [],
   "execution_count": 3
  },
  {
   "cell_type": "code",
   "metadata": {
    "ExecuteTime": {
     "end_time": "2024-10-03T09:03:05.298896Z",
     "start_time": "2024-10-03T09:03:05.263107Z"
    }
   },
   "source": [
    "# 2. Afegeix una columna addicional que calculi el PIB per càpita per a cada país en dòlars dividint el PIB de cada país per la població.\n",
    "df_economia[\"Pib_población\"] = df_economia[\"PIB (billones de dólares)\"] / df_economia[\"Población\"]\n",
    "df_economia"
   ],
   "outputs": [
    {
     "data": {
      "text/plain": [
       "             País  PIB (billones de dólares)  Inflación (%)  \\\n",
       "0  Estados Unidos                      21.44            1.8   \n",
       "1           China                      15.54            2.9   \n",
       "2           Japón                       5.15            0.2   \n",
       "3        Alemania                       4.17            1.6   \n",
       "4     Reino Unido                       2.62            2.2   \n",
       "5           India                       2.61            5.0   \n",
       "6         Francia                       2.58            1.2   \n",
       "7          Italia                       1.93            0.9   \n",
       "8          Brasil                       1.67            3.7   \n",
       "9          Canadá                       1.65            1.8   \n",
       "\n",
       "   Tasa de desempleo (%)  Índice de competitividad  Población  Pib_población  \n",
       "0                    3.7                      85.6     328.20       0.065326  \n",
       "1                    3.6                      83.1    1393.00       0.011156  \n",
       "2                    2.9                      82.5     126.50       0.040711  \n",
       "3                    3.2                      80.9      83.20       0.050120  \n",
       "4                    3.8                      78.9      66.90       0.039163  \n",
       "5                    6.6                      64.4    1380.00       0.001891  \n",
       "6                    8.1                      78.0      66.99       0.038513  \n",
       "7                   10.0                      70.3      60.30       0.032007  \n",
       "8                   13.9                      59.5     212.60       0.007855  \n",
       "9                    5.6                      77.2      38.10       0.043307  "
      ],
      "text/html": [
       "<div>\n",
       "<style scoped>\n",
       "    .dataframe tbody tr th:only-of-type {\n",
       "        vertical-align: middle;\n",
       "    }\n",
       "\n",
       "    .dataframe tbody tr th {\n",
       "        vertical-align: top;\n",
       "    }\n",
       "\n",
       "    .dataframe thead th {\n",
       "        text-align: right;\n",
       "    }\n",
       "</style>\n",
       "<table border=\"1\" class=\"dataframe\">\n",
       "  <thead>\n",
       "    <tr style=\"text-align: right;\">\n",
       "      <th></th>\n",
       "      <th>País</th>\n",
       "      <th>PIB (billones de dólares)</th>\n",
       "      <th>Inflación (%)</th>\n",
       "      <th>Tasa de desempleo (%)</th>\n",
       "      <th>Índice de competitividad</th>\n",
       "      <th>Población</th>\n",
       "      <th>Pib_población</th>\n",
       "    </tr>\n",
       "  </thead>\n",
       "  <tbody>\n",
       "    <tr>\n",
       "      <th>0</th>\n",
       "      <td>Estados Unidos</td>\n",
       "      <td>21.44</td>\n",
       "      <td>1.8</td>\n",
       "      <td>3.7</td>\n",
       "      <td>85.6</td>\n",
       "      <td>328.20</td>\n",
       "      <td>0.065326</td>\n",
       "    </tr>\n",
       "    <tr>\n",
       "      <th>1</th>\n",
       "      <td>China</td>\n",
       "      <td>15.54</td>\n",
       "      <td>2.9</td>\n",
       "      <td>3.6</td>\n",
       "      <td>83.1</td>\n",
       "      <td>1393.00</td>\n",
       "      <td>0.011156</td>\n",
       "    </tr>\n",
       "    <tr>\n",
       "      <th>2</th>\n",
       "      <td>Japón</td>\n",
       "      <td>5.15</td>\n",
       "      <td>0.2</td>\n",
       "      <td>2.9</td>\n",
       "      <td>82.5</td>\n",
       "      <td>126.50</td>\n",
       "      <td>0.040711</td>\n",
       "    </tr>\n",
       "    <tr>\n",
       "      <th>3</th>\n",
       "      <td>Alemania</td>\n",
       "      <td>4.17</td>\n",
       "      <td>1.6</td>\n",
       "      <td>3.2</td>\n",
       "      <td>80.9</td>\n",
       "      <td>83.20</td>\n",
       "      <td>0.050120</td>\n",
       "    </tr>\n",
       "    <tr>\n",
       "      <th>4</th>\n",
       "      <td>Reino Unido</td>\n",
       "      <td>2.62</td>\n",
       "      <td>2.2</td>\n",
       "      <td>3.8</td>\n",
       "      <td>78.9</td>\n",
       "      <td>66.90</td>\n",
       "      <td>0.039163</td>\n",
       "    </tr>\n",
       "    <tr>\n",
       "      <th>5</th>\n",
       "      <td>India</td>\n",
       "      <td>2.61</td>\n",
       "      <td>5.0</td>\n",
       "      <td>6.6</td>\n",
       "      <td>64.4</td>\n",
       "      <td>1380.00</td>\n",
       "      <td>0.001891</td>\n",
       "    </tr>\n",
       "    <tr>\n",
       "      <th>6</th>\n",
       "      <td>Francia</td>\n",
       "      <td>2.58</td>\n",
       "      <td>1.2</td>\n",
       "      <td>8.1</td>\n",
       "      <td>78.0</td>\n",
       "      <td>66.99</td>\n",
       "      <td>0.038513</td>\n",
       "    </tr>\n",
       "    <tr>\n",
       "      <th>7</th>\n",
       "      <td>Italia</td>\n",
       "      <td>1.93</td>\n",
       "      <td>0.9</td>\n",
       "      <td>10.0</td>\n",
       "      <td>70.3</td>\n",
       "      <td>60.30</td>\n",
       "      <td>0.032007</td>\n",
       "    </tr>\n",
       "    <tr>\n",
       "      <th>8</th>\n",
       "      <td>Brasil</td>\n",
       "      <td>1.67</td>\n",
       "      <td>3.7</td>\n",
       "      <td>13.9</td>\n",
       "      <td>59.5</td>\n",
       "      <td>212.60</td>\n",
       "      <td>0.007855</td>\n",
       "    </tr>\n",
       "    <tr>\n",
       "      <th>9</th>\n",
       "      <td>Canadá</td>\n",
       "      <td>1.65</td>\n",
       "      <td>1.8</td>\n",
       "      <td>5.6</td>\n",
       "      <td>77.2</td>\n",
       "      <td>38.10</td>\n",
       "      <td>0.043307</td>\n",
       "    </tr>\n",
       "  </tbody>\n",
       "</table>\n",
       "</div>"
      ]
     },
     "execution_count": 4,
     "metadata": {},
     "output_type": "execute_result"
    }
   ],
   "execution_count": 4
  },
  {
   "cell_type": "code",
   "metadata": {
    "ExecuteTime": {
     "end_time": "2024-10-03T09:03:25.414011Z",
     "start_time": "2024-10-03T09:03:25.395981Z"
    }
   },
   "source": [
    "# 3. Seleccionar els països amb una tasa d'atur major a 8.0\n",
    "paisos_atur = df_economia[df_economia[\"Tasa de desempleo (%)\"] > 8.0].País\n",
    "## amb id\n",
    "paisos_atur2 = df_economia[df_economia.iloc[:,3] > 8.0].País\n",
    "## amb id 2\n",
    "paisos_atur3 = df_economia.loc[df_economia.iloc[:,3] > 8.0, 'País']\n",
    "\n",
    "llista_paisos = paisos_atur3.to_list()\n",
    "print(llista_paisos)\n",
    "\n",
    "for p in llista_paisos:\n",
    "  print(f\"Pais amb alt atur: {p}\")\n",
    "\n"
   ],
   "outputs": [
    {
     "name": "stdout",
     "output_type": "stream",
     "text": [
      "['Francia', 'Italia', 'Brasil']\n",
      "Pais amb alt atur: Francia\n",
      "Pais amb alt atur: Italia\n",
      "Pais amb alt atur: Brasil\n"
     ]
    }
   ],
   "execution_count": 6
  },
  {
   "cell_type": "code",
   "metadata": {
    "ExecuteTime": {
     "end_time": "2024-10-03T09:03:36.650080Z",
     "start_time": "2024-10-03T09:03:36.625011Z"
    }
   },
   "source": [
    "#4 . Crea un nou dataframe eliminant els països anteriorment seleccionats.\n",
    "\n",
    "df_res = df_economia.drop(df_economia[df_economia.iloc[:,3] > 8.0].index)\n",
    "df_res"
   ],
   "outputs": [
    {
     "data": {
      "text/plain": [
       "             País  PIB (billones de dólares)  Inflación (%)  \\\n",
       "0  Estados Unidos                      21.44            1.8   \n",
       "1           China                      15.54            2.9   \n",
       "2           Japón                       5.15            0.2   \n",
       "3        Alemania                       4.17            1.6   \n",
       "4     Reino Unido                       2.62            2.2   \n",
       "5           India                       2.61            5.0   \n",
       "9          Canadá                       1.65            1.8   \n",
       "\n",
       "   Tasa de desempleo (%)  Índice de competitividad  Población  Pib_población  \n",
       "0                    3.7                      85.6      328.2       0.065326  \n",
       "1                    3.6                      83.1     1393.0       0.011156  \n",
       "2                    2.9                      82.5      126.5       0.040711  \n",
       "3                    3.2                      80.9       83.2       0.050120  \n",
       "4                    3.8                      78.9       66.9       0.039163  \n",
       "5                    6.6                      64.4     1380.0       0.001891  \n",
       "9                    5.6                      77.2       38.1       0.043307  "
      ],
      "text/html": [
       "<div>\n",
       "<style scoped>\n",
       "    .dataframe tbody tr th:only-of-type {\n",
       "        vertical-align: middle;\n",
       "    }\n",
       "\n",
       "    .dataframe tbody tr th {\n",
       "        vertical-align: top;\n",
       "    }\n",
       "\n",
       "    .dataframe thead th {\n",
       "        text-align: right;\n",
       "    }\n",
       "</style>\n",
       "<table border=\"1\" class=\"dataframe\">\n",
       "  <thead>\n",
       "    <tr style=\"text-align: right;\">\n",
       "      <th></th>\n",
       "      <th>País</th>\n",
       "      <th>PIB (billones de dólares)</th>\n",
       "      <th>Inflación (%)</th>\n",
       "      <th>Tasa de desempleo (%)</th>\n",
       "      <th>Índice de competitividad</th>\n",
       "      <th>Población</th>\n",
       "      <th>Pib_población</th>\n",
       "    </tr>\n",
       "  </thead>\n",
       "  <tbody>\n",
       "    <tr>\n",
       "      <th>0</th>\n",
       "      <td>Estados Unidos</td>\n",
       "      <td>21.44</td>\n",
       "      <td>1.8</td>\n",
       "      <td>3.7</td>\n",
       "      <td>85.6</td>\n",
       "      <td>328.2</td>\n",
       "      <td>0.065326</td>\n",
       "    </tr>\n",
       "    <tr>\n",
       "      <th>1</th>\n",
       "      <td>China</td>\n",
       "      <td>15.54</td>\n",
       "      <td>2.9</td>\n",
       "      <td>3.6</td>\n",
       "      <td>83.1</td>\n",
       "      <td>1393.0</td>\n",
       "      <td>0.011156</td>\n",
       "    </tr>\n",
       "    <tr>\n",
       "      <th>2</th>\n",
       "      <td>Japón</td>\n",
       "      <td>5.15</td>\n",
       "      <td>0.2</td>\n",
       "      <td>2.9</td>\n",
       "      <td>82.5</td>\n",
       "      <td>126.5</td>\n",
       "      <td>0.040711</td>\n",
       "    </tr>\n",
       "    <tr>\n",
       "      <th>3</th>\n",
       "      <td>Alemania</td>\n",
       "      <td>4.17</td>\n",
       "      <td>1.6</td>\n",
       "      <td>3.2</td>\n",
       "      <td>80.9</td>\n",
       "      <td>83.2</td>\n",
       "      <td>0.050120</td>\n",
       "    </tr>\n",
       "    <tr>\n",
       "      <th>4</th>\n",
       "      <td>Reino Unido</td>\n",
       "      <td>2.62</td>\n",
       "      <td>2.2</td>\n",
       "      <td>3.8</td>\n",
       "      <td>78.9</td>\n",
       "      <td>66.9</td>\n",
       "      <td>0.039163</td>\n",
       "    </tr>\n",
       "    <tr>\n",
       "      <th>5</th>\n",
       "      <td>India</td>\n",
       "      <td>2.61</td>\n",
       "      <td>5.0</td>\n",
       "      <td>6.6</td>\n",
       "      <td>64.4</td>\n",
       "      <td>1380.0</td>\n",
       "      <td>0.001891</td>\n",
       "    </tr>\n",
       "    <tr>\n",
       "      <th>9</th>\n",
       "      <td>Canadá</td>\n",
       "      <td>1.65</td>\n",
       "      <td>1.8</td>\n",
       "      <td>5.6</td>\n",
       "      <td>77.2</td>\n",
       "      <td>38.1</td>\n",
       "      <td>0.043307</td>\n",
       "    </tr>\n",
       "  </tbody>\n",
       "</table>\n",
       "</div>"
      ]
     },
     "execution_count": 7,
     "metadata": {},
     "output_type": "execute_result"
    }
   ],
   "execution_count": 7
  },
  {
   "cell_type": "markdown",
   "metadata": {},
   "source": [
    "## <span style=\"color:red\">Activitat</span>"
   ]
  },
  {
   "cell_type": "markdown",
   "metadata": {},
   "source": [
    "Donat els dos següents dataframes, es demana: calcular la quantitat d'ajuda rebuda per cada municipi en funció del nombre total d'habitants. "
   ]
  },
  {
   "cell_type": "code",
   "metadata": {
    "ExecuteTime": {
     "end_time": "2024-10-03T09:03:41.742785Z",
     "start_time": "2024-10-03T09:03:41.717728Z"
    }
   },
   "source": [
    "import pandas as pd\n",
    "import random\n",
    "\n",
    "random.seed(0)\n",
    "\n",
    "nombres = [f'Municipio{i}' for i in range(1, 11)] \n",
    "\n",
    "data_municipios = {\n",
    "    'Nombre': nombres,\n",
    "    'Código Postal': [random.randint(10000, 99999) for _ in range(10)],\n",
    "    'Población': [random.randint(1000, 50000) for _ in range(10)]  # Añadimos un atributo aleatorio, en este caso \"Población\"\n",
    "}\n",
    "\n",
    "df_municipios = pd.DataFrame(data_municipios)\n",
    "\n",
    "\n",
    "data_ayudas = {\n",
    "    'Nombre': [random.choice(nombres) for _ in range(20)],\n",
    "    'Ayuda Económica (en euros)': [random.randint(1000, 10000) for _ in range(20)],\n",
    "    'Número de Beneficiarios': [random.randint(10, 100) for _ in range(20)]\n",
    "}\n",
    "\n",
    "df_ayudas = pd.DataFrame(data_ayudas)\n",
    "\n",
    "print(\"Dataframe de Municipios:\")\n",
    "print(df_municipios)\n",
    "\n",
    "print(\"\\nDataframe de Ayudas:\")\n",
    "print(df_ayudas)\n"
   ],
   "outputs": [
    {
     "name": "stdout",
     "output_type": "stream",
     "text": [
      "Dataframe de Municipios:\n",
      "        Nombre  Código Postal  Población\n",
      "0   Municipio1          60494      39232\n",
      "1   Municipio2          65125      15315\n",
      "2   Municipio3          15306      34075\n",
      "3   Municipio4          43936      10127\n",
      "4   Municipio5          77013      19470\n",
      "5   Municipio6          73691      10158\n",
      "6   Municipio7          63075       7214\n",
      "7   Municipio8          49755      41525\n",
      "8   Municipio9          72468      17417\n",
      "9  Municipio10          56930      35902\n",
      "\n",
      "Dataframe de Ayudas:\n",
      "         Nombre  Ayuda Económica (en euros)  Número de Beneficiarios\n",
      "0   Municipio10                        9989                       72\n",
      "1    Municipio3                        1230                       23\n",
      "2    Municipio5                        2528                       48\n",
      "3    Municipio2                        7534                       80\n",
      "4    Municipio2                        1018                       47\n",
      "5    Municipio6                        9086                      100\n",
      "6    Municipio8                        6458                       25\n",
      "7    Municipio9                        4996                       80\n",
      "8    Municipio2                        6328                       52\n",
      "9    Municipio6                        2031                       79\n",
      "10   Municipio7                        4130                       36\n",
      "11   Municipio6                        4632                       87\n",
      "12  Municipio10                        4909                       80\n",
      "13   Municipio4                        3334                       85\n",
      "14   Municipio9                        9896                       46\n",
      "15   Municipio8                        8339                       66\n",
      "16   Municipio8                        2494                       21\n",
      "17   Municipio9                        2318                       86\n",
      "18   Municipio5                        6243                       59\n",
      "19   Municipio1                        9322                       50\n"
     ]
    }
   ],
   "execution_count": 8
  },
  {
   "cell_type": "code",
   "metadata": {
    "ExecuteTime": {
     "end_time": "2024-10-03T09:04:02.820364Z",
     "start_time": "2024-10-03T09:04:02.807337Z"
    }
   },
   "source": [
    "# calcular la quantitat d'ajuda rebuda per cada municipi en funció del nombre total d'habitants. \n",
    "df = df_ayudas.groupby(\"Nombre\").sum()\n",
    "df"
   ],
   "outputs": [
    {
     "data": {
      "text/plain": [
       "             Ayuda Económica (en euros)  Número de Beneficiarios\n",
       "Nombre                                                          \n",
       "Municipio1                         9322                       50\n",
       "Municipio10                       14898                      152\n",
       "Municipio2                        14880                      179\n",
       "Municipio3                         1230                       23\n",
       "Municipio4                         3334                       85\n",
       "Municipio5                         8771                      107\n",
       "Municipio6                        15749                      266\n",
       "Municipio7                         4130                       36\n",
       "Municipio8                        17291                      112\n",
       "Municipio9                        17210                      212"
      ],
      "text/html": [
       "<div>\n",
       "<style scoped>\n",
       "    .dataframe tbody tr th:only-of-type {\n",
       "        vertical-align: middle;\n",
       "    }\n",
       "\n",
       "    .dataframe tbody tr th {\n",
       "        vertical-align: top;\n",
       "    }\n",
       "\n",
       "    .dataframe thead th {\n",
       "        text-align: right;\n",
       "    }\n",
       "</style>\n",
       "<table border=\"1\" class=\"dataframe\">\n",
       "  <thead>\n",
       "    <tr style=\"text-align: right;\">\n",
       "      <th></th>\n",
       "      <th>Ayuda Económica (en euros)</th>\n",
       "      <th>Número de Beneficiarios</th>\n",
       "    </tr>\n",
       "    <tr>\n",
       "      <th>Nombre</th>\n",
       "      <th></th>\n",
       "      <th></th>\n",
       "    </tr>\n",
       "  </thead>\n",
       "  <tbody>\n",
       "    <tr>\n",
       "      <th>Municipio1</th>\n",
       "      <td>9322</td>\n",
       "      <td>50</td>\n",
       "    </tr>\n",
       "    <tr>\n",
       "      <th>Municipio10</th>\n",
       "      <td>14898</td>\n",
       "      <td>152</td>\n",
       "    </tr>\n",
       "    <tr>\n",
       "      <th>Municipio2</th>\n",
       "      <td>14880</td>\n",
       "      <td>179</td>\n",
       "    </tr>\n",
       "    <tr>\n",
       "      <th>Municipio3</th>\n",
       "      <td>1230</td>\n",
       "      <td>23</td>\n",
       "    </tr>\n",
       "    <tr>\n",
       "      <th>Municipio4</th>\n",
       "      <td>3334</td>\n",
       "      <td>85</td>\n",
       "    </tr>\n",
       "    <tr>\n",
       "      <th>Municipio5</th>\n",
       "      <td>8771</td>\n",
       "      <td>107</td>\n",
       "    </tr>\n",
       "    <tr>\n",
       "      <th>Municipio6</th>\n",
       "      <td>15749</td>\n",
       "      <td>266</td>\n",
       "    </tr>\n",
       "    <tr>\n",
       "      <th>Municipio7</th>\n",
       "      <td>4130</td>\n",
       "      <td>36</td>\n",
       "    </tr>\n",
       "    <tr>\n",
       "      <th>Municipio8</th>\n",
       "      <td>17291</td>\n",
       "      <td>112</td>\n",
       "    </tr>\n",
       "    <tr>\n",
       "      <th>Municipio9</th>\n",
       "      <td>17210</td>\n",
       "      <td>212</td>\n",
       "    </tr>\n",
       "  </tbody>\n",
       "</table>\n",
       "</div>"
      ]
     },
     "execution_count": 10,
     "metadata": {},
     "output_type": "execute_result"
    }
   ],
   "execution_count": 10
  },
  {
   "cell_type": "markdown",
   "metadata": {},
   "source": [
    "## 5.B Tractament de informacio desconeguda: Valors NaN, None, NaT"
   ]
  },
  {
   "cell_type": "markdown",
   "metadata": {},
   "source": [
    "\n",
    "\n",
    "Els valors desconeguts `NaN`, `None` i `NaT` són elements que es poden trobar en els dataframes i que indiquen que les dades no existeixen o no estan disponibles. Cadascun d'aquests valors s'utilitza en un context específic:\n",
    "\n",
    "- `NaN` (Not a Number): NaN és una representació especial per als valors numèrics que no són vàlids o no estan disponibles. Es fa servir principalment en sèries o dataframes amb dades numèriques. Quan realitzem operacions matemàtiques o estadístiques en dades que contenen `NaN`, el resultat sovint serà `NaN`. Per a identificar `NaN` en Pandas, pots utilitzar la funció `pd.isna()` o `pd.isnan()`.\n",
    "\n",
    "- `None`: `None` és una constant especial en Python que s'utilitza per representar la manca d'un valor o la no disponibilitat d'una variable. Per verificar si un valor és `None`, pots utilitzar l'operador d'igualtat (`==`) o la funció pd.isna().\n",
    "\n",
    "- `NaT` (Not a Timestamp): `NaT` és una representació especial per als valors de data i hora (datetime) que no estan disponibles o no estan definits. Aquest valor s'utilitza principalment en columnes que contenen dates i hores. Pots identificar `NaT` utilitzant la funció `pd.isna()` o `pd.isnull()` en columnes de dates.\n",
    "\n",
    "Emprant el fitxer WHO.csv:\n"
   ]
  },
  {
   "cell_type": "code",
   "execution_count": null,
   "metadata": {},
   "outputs": [],
   "source": [
    "import pandas as pd\n",
    "df = pd.read_csv(\"data/WHO.csv\")\n",
    "\n",
    "# Contabiliza cuántos paises tienen algún valor NaN en cualquiera de sus columnas.\n",
    "df.isna().sum()"
   ]
  },
  {
   "cell_type": "code",
   "execution_count": null,
   "metadata": {},
   "outputs": [],
   "source": [
    "# ¿Cuál es el país con mayor número de muestras desconocidas?\n",
    "index_row = df.isna().sum(axis=1).argmax()\n",
    "print(index_row)\n",
    "df.loc[index_row].Country"
   ]
  },
  {
   "cell_type": "markdown",
   "metadata": {},
   "source": [
    "Les operacions de _Pandas_ es troben preparades per treballar amb aquests valors faltants, per observar-ho consultarem la documentació de l'operació de [suma](https://pandas.pydata.org/docs/reference/api/pandas.DataFrame.sum.html#pandas.DataFrame.sum).\n",
    "\n",
    "Per altra banda, la mateixa llibreria ens permet inferir i substituir aquests valors amb altres:\n",
    "\n",
    "De manera general podem dir que tenim 2 opcions:\n",
    "\n",
    "- [fillna](https://pandas.pydata.org/docs/reference/api/pandas.DataFrame.fillna.html): Basicament substitueix els valors `Nan` per una constant o pel valor de la fila/columna anterior.\n",
    "- [interpolate](https://pandas.pydata.org/docs/reference/api/pandas.DataFrame.interpolate.html) Omple els valors `NaN` mitjançant un mètode d'interpolació. Té sentit en sèries temporals amb observacions properes.\n",
    "\n",
    "Una altra tècnica que també es pot usar (encara que pot ser perillos segons l'estudi) és la d'eliminar aquelles files i columnes que contenen aquest tipus de valors: [dropna](https://pandas.pydata.org/pandas-docs/stable/reference/api/pandas.DataFrame.dropna.html).\n",
    "\n",
    "Per tenir més informació d'aquest tema podeu llegir la [documentació](https://pandas.pydata.org/pandas-docs/stable/user_guide/missing_data.html#missing-data)\n",
    "\n",
    "\n"
   ]
  },
  {
   "cell_type": "markdown",
   "metadata": {},
   "source": [
    "## <span style=\"color:red\">Activitat</span>"
   ]
  },
  {
   "cell_type": "code",
   "metadata": {
    "ExecuteTime": {
     "end_time": "2024-10-03T09:04:17.927552Z",
     "start_time": "2024-10-03T09:04:17.891010Z"
    }
   },
   "source": [
    "# Dins les dades de WHO.csv, quants valors `Nan` la columna `Adult literacy rate (%)`?\n",
    "df = pd.read_csv(\"data/WHO.csv\")\n",
    "serie = df[\"Adult literacy rate (%)\"]\n",
    "\n"
   ],
   "outputs": [],
   "execution_count": 11
  },
  {
   "cell_type": "code",
   "metadata": {
    "ExecuteTime": {
     "end_time": "2024-10-03T09:04:26.071688Z",
     "start_time": "2024-10-03T09:04:26.050628Z"
    }
   },
   "source": [
    "# Calcula la mitjana d'aquesta sèrie?\n",
    "serie.mean()\n",
    "# serie.mean(skipna=False) # provar amb aquest paràmetre\n"
   ],
   "outputs": [
    {
     "data": {
      "text/plain": [
       "78.87175572519085"
      ]
     },
     "execution_count": 12,
     "metadata": {},
     "output_type": "execute_result"
    }
   ],
   "execution_count": 12
  },
  {
   "cell_type": "code",
   "metadata": {
    "ExecuteTime": {
     "end_time": "2024-10-03T09:14:27.660744Z",
     "start_time": "2024-10-03T09:14:27.648671Z"
    }
   },
   "source": [
    "# Substitueix els valors `Nan` per zeros. Quina és la nova mitjana?\n",
    "\n",
    "# La manera llarga\n",
    "serie2 = serie.copy()\n",
    "indexos = serie2[serie2.isna()].index\n",
    "\n",
    "serie2.loc[indexos] = 0\n",
    "res = serie2.mean()\n",
    "print(res)\n",
    "\n",
    "# La manera amb fillna\n",
    "serie3 = serie.copy()\n",
    "serie3 = serie3.fillna(0)\n",
    "print(serie3.mean())"
   ],
   "outputs": [
    {
     "name": "stdout",
     "output_type": "stream",
     "text": [
      "51.14950495049505\n",
      "51.14950495049505\n"
     ]
    }
   ],
   "execution_count": 18
  },
  {
   "cell_type": "code",
   "metadata": {
    "ExecuteTime": {
     "end_time": "2024-10-03T09:15:53.756356Z",
     "start_time": "2024-10-03T09:15:53.734938Z"
    }
   },
   "source": [
    "# Substitueix els valors `Nan` pel valor anterior. Quina és la nova mitjana?\n",
    "\n",
    "  \n",
    "serie3 = serie.copy()\n",
    "serie3 = serie3.fillna(res)\n",
    "res = serie3.mean()\n",
    "print(res)"
   ],
   "outputs": [
    {
     "name": "stdout",
     "output_type": "stream",
     "text": [
      "75.44689869756508\n"
     ]
    }
   ],
   "execution_count": 20
  },
  {
   "metadata": {},
   "cell_type": "markdown",
   "source": "**EXTRA**: Substitueix els valors `Nan` per l'índex del valor anterior. Quina és la nova mitjana?\n"
  },
  {
   "metadata": {},
   "cell_type": "code",
   "outputs": [],
   "execution_count": null,
   "source": [
    "serie3 = serie.copy()\n",
    "indexos = serie3[serie3.isna()].index #obtenim els indexos amb Nan\n",
    "\n",
    "indexos_1 = indexos - 1 # Obtenim els anteriors\n",
    "print(indexos_1)\n",
    "serie3[indexos] = serie3[indexos_1] #substituim valors\n",
    "print(serie3)\n",
    "print(serie3.mean())\n",
    "#El problema que tenim en aquesta solució és si hi ha dos Nan seguits.\n",
    "#a la propera cel·la ho arreglarem emprant un bucle."
   ]
  },
  {
   "metadata": {},
   "cell_type": "code",
   "outputs": [],
   "execution_count": null,
   "source": [
    "\n",
    "serie4 = serie.copy()\n",
    "indexos = serie4[serie4.isna()].index\n",
    "\n",
    "#Hauriem de comprovar si hi ha un Nan a la primera posició i donar algun \n",
    "#valor per defecte\n",
    "for i in indexos:\n",
    "  serie4.iloc[i] = serie4.iloc[i-1]\n",
    "\n",
    "serie4"
   ]
  },
  {
   "cell_type": "markdown",
   "metadata": {
    "collapsed": false
   },
   "source": [
    "[![License: CC BY 4.0](https://img.shields.io/badge/License-CC_BY_4.0-lightgrey.svg)](https://creativecommons.org/licenses/by/4.0/) <br/>\n",
    "Isaac Lera and Gabriel Moya <br/>\n",
    "Universitat de les Illes Balears <br/>\n",
    "isaac.lera@uib.edu, gabriel.moya@uib.edu"
   ]
  }
 ],
 "metadata": {
  "kernelspec": {
   "display_name": "my397",
   "language": "python",
   "name": "python3"
  },
  "language_info": {
   "codemirror_mode": {
    "name": "ipython",
    "version": 3
   },
   "file_extension": ".py",
   "mimetype": "text/x-python",
   "name": "python",
   "nbconvert_exporter": "python",
   "pygments_lexer": "ipython3",
   "version": "3.11.0rc2"
  },
  "vscode": {
   "interpreter": {
    "hash": "8b38137d60f5ef6101ebd11fd805c6415d52a5c999d13278488bced8392256b3"
   }
  }
 },
 "nbformat": 4,
 "nbformat_minor": 0
}
